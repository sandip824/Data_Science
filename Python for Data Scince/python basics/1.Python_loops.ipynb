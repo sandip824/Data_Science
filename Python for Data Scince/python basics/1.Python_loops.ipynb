{
 "cells": [
  {
   "cell_type": "code",
   "execution_count": 3,
   "metadata": {},
   "outputs": [
    {
     "name": "stdout",
     "output_type": "stream",
     "text": [
      "1\n",
      "2\n",
      "3\n"
     ]
    }
   ],
   "source": [
    "my_array = [1,2,3]\n",
    "\n",
    "for x in my_array:\n",
    "    print(x)"
   ]
  },
  {
   "cell_type": "code",
   "execution_count": 4,
   "metadata": {},
   "outputs": [
    {
     "name": "stdout",
     "output_type": "stream",
     "text": [
      "A -> 1\n",
      "B -> 1\n",
      "A -> 2\n",
      "B -> 2\n",
      "A -> 3\n",
      "B -> 3\n"
     ]
    }
   ],
   "source": [
    "#simple for loop\n",
    "for x in my_array:\n",
    "    print('A -> ' + str(x))\n",
    "    print('B -> ' + str(x))"
   ]
  },
  {
   "cell_type": "code",
   "execution_count": 5,
   "metadata": {},
   "outputs": [
    {
     "name": "stdout",
     "output_type": "stream",
     "text": [
      "A -> 1\n",
      "B -> 1\n",
      "A -> 2\n",
      "B -> 2\n",
      "A -> 3\n",
      "B -> 3\n",
      "Hello\n"
     ]
    }
   ],
   "source": [
    "#for loop ends when the indentation ends ,\n",
    "#here  Hello print statement is out of for looop\n",
    "for x in my_array:\n",
    "    print('A -> ' + str(x))\n",
    "    print('B -> '+ str(x))\n",
    "print('Hello')"
   ]
  },
  {
   "cell_type": "markdown",
   "metadata": {},
   "source": [
    "## If Statements\n",
    "\n",
    "Conditional statements in Python are simple and very similar to other languages. "
   ]
  },
  {
   "cell_type": "code",
   "execution_count": 6,
   "metadata": {},
   "outputs": [],
   "source": [
    "import random\n",
    "a = random.randint(0, 10)\n",
    "\n",
    "if a < 5:\n",
    "    print('The random number is less than 5')"
   ]
  },
  {
   "cell_type": "code",
   "execution_count": 7,
   "metadata": {},
   "outputs": [
    {
     "name": "stdout",
     "output_type": "stream",
     "text": [
      "The random number is greater than or equal to 5\n"
     ]
    }
   ],
   "source": [
    "#if else example \n",
    "a = random.randint(0, 10)\n",
    "\n",
    "if a < 5:\n",
    "    print('The random number is less than 5')\n",
    "else:\n",
    "    print('The random number is greater than or equal to 5')"
   ]
  },
  {
   "cell_type": "code",
   "execution_count": 8,
   "metadata": {},
   "outputs": [
    {
     "name": "stdout",
     "output_type": "stream",
     "text": [
      "The random number is less than 5\n"
     ]
    }
   ],
   "source": [
    "# if else if \n",
    "a = random.randint(0, 10)\n",
    "\n",
    "if a < 5:\n",
    "    print('The random number is less than 5')\n",
    "elif a == 5:\n",
    "    print('The number is equal to 5')\n",
    "else:\n",
    "    print('The random number is greater than 5')"
   ]
  },
  {
   "cell_type": "markdown",
   "metadata": {},
   "source": [
    "### Nested if Statements"
   ]
  },
  {
   "cell_type": "code",
   "execution_count": 10,
   "metadata": {},
   "outputs": [
    {
     "name": "stdout",
     "output_type": "stream",
     "text": [
      "Greater than 50\n",
      "Also greater than 100\n"
     ]
    }
   ],
   "source": [
    "a = random.randint(0, 200)\n",
    "\n",
    "if a > 50:\n",
    "    print('Greater than 50')\n",
    "    if a > 100:\n",
    "        print('Also greater than 100')\n",
    "    else:\n",
    "        print('Not greater than 100')\n",
    "else:\n",
    "    print('Less than or equal to 50')"
   ]
  },
  {
   "cell_type": "markdown",
   "metadata": {},
   "source": [
    "### The pass Statement\n",
    "\n",
    "If you wanted to write an empty `if` statement, how would you do this? But first, why would you do this? There are occassions in which you want certain escape `if` conditions. Which means, if the condition is satisfied, you simply ignore the specific condition and move on to possibly another block of code. "
   ]
  },
  {
   "cell_type": "code",
   "execution_count": 14,
   "metadata": {},
   "outputs": [
    {
     "name": "stdout",
     "output_type": "stream",
     "text": [
      "Letter : m\n",
      "Letter : y\n",
      "Letter : n\n",
      "Letter : a\n",
      "Letter : m\n"
     ]
    }
   ],
   "source": [
    "'''Areas where you would need to syntatically have a statement, \n",
    "but don't want to do anything, you would use the `pass` statement. \n",
    "The `pass` statement is not specific to `if`, but is commonly used\n",
    "with several control structures, functions and loops.\n",
    "'''\n",
    "\n",
    "for letter in 'myname': \n",
    "    if letter == 'e':\n",
    "        pass #TODO: Implement this later\n",
    "    else:\n",
    "        print('Letter :', letter)"
   ]
  },
  {
   "cell_type": "markdown",
   "metadata": {},
   "source": [
    "## Loops\n",
    "\n",
    "One of the most commonly used structures in Python is loops. We have used some of these already. Let's take a quick detailed look into how loops work in Python.\n",
    "\n",
    "Like other languages, Python supports both `while` and `for` loops. All loops can be nested within other loops. \n",
    "\n",
    "supported  loop control statements:\n",
    "* break statement\n",
    "* continue statement\n",
    "* pass statement\n",
    "\n",
    "Let's start with `while` loops\n",
    "\n",
    "## while loop"
   ]
  },
  {
   "cell_type": "code",
   "execution_count": 15,
   "metadata": {},
   "outputs": [
    {
     "name": "stdout",
     "output_type": "stream",
     "text": [
      "Count = 0\n",
      "Count = 1\n",
      "Count = 2\n",
      "Count = 3\n",
      "Count = 4\n",
      "Count = 5\n",
      "Count = 6\n",
      "Count = 7\n",
      "Count = 8\n",
      "Count = 9\n"
     ]
    }
   ],
   "source": [
    "count = 0\n",
    "while count < 10:\n",
    "    print('Count =', count)\n",
    "    count += 1"
   ]
  },
  {
   "cell_type": "code",
   "execution_count": 17,
   "metadata": {},
   "outputs": [
    {
     "name": "stdout",
     "output_type": "stream",
     "text": [
      "count1 = 0 and count2 = 0\n",
      "count1 = 0 and count2 = 1\n",
      "count1 = 1 and count2 = 0\n",
      "count1 = 1 and count2 = 1\n",
      "count1 = 2 and count2 = 0\n",
      "count1 = 2 and count2 = 1\n",
      "count1 = 3 and count2 = 0\n",
      "count1 = 3 and count2 = 1\n",
      "count1 = 4 and count2 = 0\n",
      "count1 = 4 and count2 = 1\n"
     ]
    }
   ],
   "source": [
    "#nested while \n",
    "count1 = 0\n",
    "while count1 < 5:\n",
    "    count2 = 0\n",
    "    while count2 < 2:\n",
    "        print('count1 =', count1, 'and count2 =', count2)\n",
    "        count2 += 1\n",
    "    count1 += 1"
   ]
  },
  {
   "cell_type": "markdown",
   "metadata": {},
   "source": [
    "### while with else\n",
    "\n",
    "Unlike many other languages, `while` loops inside Python can have an `else` clause. The `else` is a code block that is executed when the condition of the `while` loop is no longer satisfied. "
   ]
  },
  {
   "cell_type": "code",
   "execution_count": 19,
   "metadata": {},
   "outputs": [
    {
     "name": "stdout",
     "output_type": "stream",
     "text": [
      "Number is still less than 5\n",
      "Number is still less than 5\n",
      "Number is still less than 5\n",
      "Number is no longer less than 5\n"
     ]
    }
   ],
   "source": [
    "number = 0\n",
    "while number < 3:\n",
    "    print('Number is still less than 5')\n",
    "    number += 1\n",
    "else:\n",
    "    print('Number is no longer less than 5')"
   ]
  },
  {
   "cell_type": "markdown",
   "metadata": {},
   "source": [
    "We need to take a pause here to truly understand the difference between while with else and while with just some lines of code after it. The below example would do exactly the same thing as the above example, yet there is a fundamental difference that we need to understand."
   ]
  },
  {
   "cell_type": "code",
   "execution_count": 19,
   "metadata": {},
   "outputs": [
    {
     "name": "stdout",
     "output_type": "stream",
     "text": [
      "Number is still less than 5\n",
      "Number is still less than 5\n",
      "Number is still less than 5\n",
      "Number is still less than 5\n",
      "Number is still less than 5\n",
      "Number is no longer less than 5\n"
     ]
    }
   ],
   "source": [
    "number = 0\n",
    "while number < 5:\n",
    "    print('Number is still less than 5')\n",
    "    number += 1\n",
    "print('Number is no longer less than 5')"
   ]
  },
  {
   "cell_type": "markdown",
   "metadata": {},
   "source": [
    "If you have run the above cells, you know that both the `while` with the `else` and `while` without the `else`, both produce exactly the same output. So why do we have a `while` with `else` as an option?\n",
    "\n",
    "The answer to this is very simple, but let's first understand one more important thing. Will the `else` statement execute if the `while` condition is never satisifed? Let's take a look at the below code. "
   ]
  },
  {
   "cell_type": "code",
   "execution_count": 27,
   "metadata": {},
   "outputs": [
    {
     "name": "stdout",
     "output_type": "stream",
     "text": [
      "Number is no longer less than 5\n"
     ]
    }
   ],
   "source": [
    "number = 5\n",
    "while number < 5:\n",
    "    print('Number is still less than 5')\n",
    "    number += 1\n",
    "else:\n",
    "    print('Number is no longer less than 5')"
   ]
  },
  {
   "cell_type": "markdown",
   "metadata": {},
   "source": [
    "When we run it, we can notice that the else block is printed. So whether the condition of the `while` loop is ever satisified or not, the `else` is getting printed. So when exactly is the `else` useful? "
   ]
  },
  {
   "cell_type": "code",
   "execution_count": 21,
   "metadata": {},
   "outputs": [
    {
     "name": "stdout",
     "output_type": "stream",
     "text": [
      "Number is 0\n",
      "Number is 1\n",
      "Number is 2\n",
      "Number is 3\n",
      "We have completed the while\n"
     ]
    }
   ],
   "source": [
    "number = 0\n",
    "while number < 5:\n",
    "    print('Number is', number)\n",
    "    number += 1\n",
    "    if number == 4: break\n",
    "else:\n",
    "    print('Number is no longer less than 5')\n",
    "    \n",
    "print('We have completed the while')"
   ]
  },
  {
   "cell_type": "markdown",
   "metadata": {},
   "source": [
    "Hmm.. interesting.. is it not?\n",
    "\n",
    "WE can notice that the `else` block never got executed as we did a `break` on the `while` loop before the condition failed. This means that the `else` block only executes as long as we did not `break` the while loop.\n",
    "\n",
    "This is a veryful useful language construct in Python. If it was not for the `else`, you would have the write the code in the following manner."
   ]
  },
  {
   "cell_type": "code",
   "execution_count": 28,
   "metadata": {},
   "outputs": [
    {
     "name": "stdout",
     "output_type": "stream",
     "text": [
      "Number is 0\n",
      "Number is 1\n",
      "Number is 2\n",
      "Number is 3\n",
      "We have completed the while\n"
     ]
    }
   ],
   "source": [
    "number = 0\n",
    "didBreak = False\n",
    "while number < 5:\n",
    "    print('Number is', number)\n",
    "    number += 1\n",
    "    if number == 4: didBreak = True; break\n",
    "\n",
    "if not didBreak:\n",
    "    print('Number is no longer less than 5')\n",
    "    \n",
    "print('We have completed the while')"
   ]
  },
  {
   "cell_type": "markdown",
   "metadata": {},
   "source": [
    "## for loop\n",
    "\n",
    "`for` loops in Python follow more of the functional programming syntax. We define a variable inside the `for` and then choose an object to iterate upon. The `for` will execute, until the object specified is fully iterated through. Let's look at an example."
   ]
  },
  {
   "cell_type": "code",
   "execution_count": 29,
   "metadata": {},
   "outputs": [
    {
     "name": "stdout",
     "output_type": "stream",
     "text": [
      "Fruit is mango\n",
      "Fruit is banana\n",
      "Fruit is strowberry\n"
     ]
    }
   ],
   "source": [
    "fruits = ['mango', 'banana', 'strowberry']\n",
    "\n",
    "for fruit in fruits:\n",
    "    print('Fruit is', fruit)"
   ]
  },
  {
   "cell_type": "markdown",
   "metadata": {},
   "source": [
    "In the above example, `fruits` is an array and we have utilised a `for` loop to iterate through every element of the array.\n",
    "\n",
    "In case you prefer to iterate on index, you can do so as well"
   ]
  },
  {
   "cell_type": "code",
   "execution_count": 30,
   "metadata": {},
   "outputs": [
    {
     "name": "stdout",
     "output_type": "stream",
     "text": [
      "Fruit is mango\n",
      "Fruit is banana\n",
      "Fruit is strowberry\n"
     ]
    }
   ],
   "source": [
    "for index in range(len(fruits)):\n",
    "    print('Fruit is', fruits[index])"
   ]
  },
  {
   "cell_type": "markdown",
   "metadata": {},
   "source": [
    "### for with else"
   ]
  },
  {
   "cell_type": "code",
   "execution_count": 31,
   "metadata": {},
   "outputs": [
    {
     "name": "stdout",
     "output_type": "stream",
     "text": [
      "Fruit is mango\n",
      "Fruit is banana\n",
      "Fruit is strowberry\n",
      "Finished printing fruits\n"
     ]
    }
   ],
   "source": [
    "for fruit in fruits:\n",
    "    print('Fruit is', fruit)\n",
    "else:\n",
    "    print('Finished printing fruits')"
   ]
  }
 ],
 "metadata": {
  "kernelspec": {
   "display_name": "Python 3",
   "language": "python",
   "name": "python3"
  },
  "language_info": {
   "codemirror_mode": {
    "name": "ipython",
    "version": 3
   },
   "file_extension": ".py",
   "mimetype": "text/x-python",
   "name": "python",
   "nbconvert_exporter": "python",
   "pygments_lexer": "ipython3",
   "version": "3.7.6"
  }
 },
 "nbformat": 4,
 "nbformat_minor": 4
}
