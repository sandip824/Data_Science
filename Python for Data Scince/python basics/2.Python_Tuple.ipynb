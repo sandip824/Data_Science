{
 "cells": [
  {
   "cell_type": "markdown",
   "metadata": {},
   "source": [
    "\n",
    "# Tuple\n",
    "\n"
   ]
  },
  {
   "cell_type": "code",
   "execution_count": 4,
   "metadata": {},
   "outputs": [
    {
     "name": "stdout",
     "output_type": "stream",
     "text": [
      "(1, 2, 3)\n",
      "('myname', 20, 2.22)\n"
     ]
    }
   ],
   "source": [
    "# it is squence which cannot be modified after declating\n",
    "#tuple is immutable \n",
    "\n",
    "tup =(1,2,3)   # Defines a tuple with 3 values\n",
    "tup2=('myname',20,2.22)  # tuple element can have any data type\n",
    "print(tup)\n",
    "print(tup2)"
   ]
  },
  {
   "cell_type": "code",
   "execution_count": 5,
   "metadata": {},
   "outputs": [
    {
     "name": "stdout",
     "output_type": "stream",
     "text": [
      "((1, 2, 3), (4, 5))\n",
      "(('first', 'second'), (20, 30))\n"
     ]
    }
   ],
   "source": [
    "#we can define nested tuples also\n",
    "tup_nested = ((1,2,3),(4,5)) #This is a nested tuple\n",
    "tup_nested2=(('first','second'),(20,30))\n",
    "print(tup_nested)\n",
    "print(tup_nested2)"
   ]
  },
  {
   "cell_type": "markdown",
   "metadata": {},
   "source": [
    "The above example shows how one tuple can be included in another tuple. This is perfectly normal in Python as a tuple can store an object of any type, including an object of type tuple itself. \n",
    "\n",
    "One can also convert any sequence into a tuple."
   ]
  },
  {
   "cell_type": "code",
   "execution_count": 6,
   "metadata": {},
   "outputs": [
    {
     "name": "stdout",
     "output_type": "stream",
     "text": [
      "(1, 2, 3)\n"
     ]
    }
   ],
   "source": [
    "tup = tuple([1,2,3])\n",
    "\n",
    "print(tup)"
   ]
  },
  {
   "cell_type": "code",
   "execution_count": 8,
   "metadata": {},
   "outputs": [
    {
     "name": "stdout",
     "output_type": "stream",
     "text": [
      "('h', 'e', 'l', 'l', 'o')\n"
     ]
    }
   ],
   "source": [
    "#converting a string into tuple \n",
    "tup = tuple('hello')\n",
    "\n",
    "print(tup)"
   ]
  },
  {
   "cell_type": "markdown",
   "metadata": {},
   "source": [
    "How do you access elements of a Tuple? We do it just like any other sequence type."
   ]
  },
  {
   "cell_type": "code",
   "execution_count": 9,
   "metadata": {},
   "outputs": [
    {
     "data": {
      "text/plain": [
       "'l'"
      ]
     },
     "execution_count": 9,
     "metadata": {},
     "output_type": "execute_result"
    }
   ],
   "source": [
    "#accessing tuple elemets \n",
    "tup[3]"
   ]
  },
  {
   "cell_type": "code",
   "execution_count": 10,
   "metadata": {},
   "outputs": [
    {
     "name": "stdout",
     "output_type": "stream",
     "text": [
      "('hello', [1, 2, 3], (4, 5, 6), True)\n"
     ]
    }
   ],
   "source": [
    "tup = ('hello', [1,2,3], (4,5,6), True)\n",
    "\n",
    "print(tup)"
   ]
  },
  {
   "cell_type": "code",
   "execution_count": 15,
   "metadata": {},
   "outputs": [
    {
     "name": "stdout",
     "output_type": "stream",
     "text": [
      "('hello', [1, 2, 3], (4, 5, 6), True)\n"
     ]
    }
   ],
   "source": [
    "tup = tuple(['hello', [1,2,3], (4,5,6), True]) #Also written as this\n",
    "\n",
    "print(tup)"
   ]
  },
  {
   "cell_type": "markdown",
   "metadata": {},
   "source": [
    "A tuple itself is immutable, but if an object inside a tuple is mutable, it can be done so by directly mutating the object in-place. "
   ]
  },
  {
   "cell_type": "code",
   "execution_count": 18,
   "metadata": {},
   "outputs": [
    {
     "name": "stdout",
     "output_type": "stream",
     "text": [
      "[1, 2, 3, 4]\n",
      "('hello', [1, 2, 3, 4, 4], (4, 5, 6), True)\n"
     ]
    }
   ],
   "source": [
    "#tuple itself is not munatble but object inside tuple is mutable \n",
    "print(tup[1])\n",
    "tup[1].append(4)\n",
    "\n",
    "print(tup)"
   ]
  },
  {
   "cell_type": "markdown",
   "metadata": {},
   "source": [
    "However, `tup[2].append(4)` would now work, as at index 2 we have a tuple. Index 1 was an array / list so the append operation worked. "
   ]
  },
  {
   "cell_type": "markdown",
   "metadata": {},
   "source": [
    "## Concatenating Tuples\n",
    "\n",
    "While tuples by themselves are immutable, we can concatenate two different tuples to make longer tuples."
   ]
  },
  {
   "cell_type": "code",
   "execution_count": 21,
   "metadata": {},
   "outputs": [
    {
     "name": "stdout",
     "output_type": "stream",
     "text": [
      "(1, 2, 3, 4, 5, 6)\n"
     ]
    }
   ],
   "source": [
    "tup1 = (1,2,3)\n",
    "tup2 = (4,5,6)\n",
    "\n",
    "tup3 = tup1 + tup2\n",
    "\n",
    "print(tup3)"
   ]
  },
  {
   "cell_type": "markdown",
   "metadata": {},
   "source": [
    "By using just the `+` operator, you can concatenate tuples to create a longer tuple.\n",
    "\n",
    "## Multiplying Tuples\n",
    "\n",
    "One can multiple the tuple to create a large tuple. "
   ]
  },
  {
   "cell_type": "code",
   "execution_count": 22,
   "metadata": {},
   "outputs": [
    {
     "name": "stdout",
     "output_type": "stream",
     "text": [
      "(1, 2, 1, 2, 1, 2, 1, 2)\n"
     ]
    }
   ],
   "source": [
    "tup = 1,2\n",
    "tup = tup * 4\n",
    "\n",
    "print(tup)"
   ]
  },
  {
   "cell_type": "markdown",
   "metadata": {},
   "source": [
    "We can see that multiplying the tuple by 4, we have caused the tuple to expand itself into 4 times its original size. All values inside the tuple get replicated 4 times with this operation.\n",
    "\n",
    "## Unpacking Tuples\n",
    "In a single line of code, we can extract all the values present within the tuple. "
   ]
  },
  {
   "cell_type": "code",
   "execution_count": 23,
   "metadata": {},
   "outputs": [
    {
     "name": "stdout",
     "output_type": "stream",
     "text": [
      "1\n",
      "2\n",
      "3\n"
     ]
    }
   ],
   "source": [
    "tup = 1,2,3\n",
    "\n",
    "a,b,c = tup #Unpacks the Tuple\n",
    "\n",
    "print(a)\n",
    "print(b)\n",
    "print(c)"
   ]
  },
  {
   "cell_type": "markdown",
   "metadata": {},
   "source": [
    "Unpacking hetrogeneous tuples is also possible. The variables have to be provided in the approrpiate manner, else the operation will fail."
   ]
  },
  {
   "cell_type": "code",
   "execution_count": 24,
   "metadata": {},
   "outputs": [
    {
     "name": "stdout",
     "output_type": "stream",
     "text": [
      "4\n",
      "5\n"
     ]
    }
   ],
   "source": [
    "tup = 1,2,3,(4,5)\n",
    "\n",
    "a,b,c,(d,e) = tup\n",
    "\n",
    "print(d)\n",
    "print(e)"
   ]
  },
  {
   "cell_type": "markdown",
   "metadata": {},
   "source": [
    "The above example extracts the inner tuple and set it to the varaible `x`. It is important to note that it did not extract the value of `4` and set it to `x`. It instead extracted the entire tuple `(4,5)`\n",
    "\n",
    "The unpacking of tuples works within for loops as well. It is a common practice to unpack when iterating over sequences in a for loop."
   ]
  },
  {
   "cell_type": "code",
   "execution_count": 25,
   "metadata": {},
   "outputs": [
    {
     "name": "stdout",
     "output_type": "stream",
     "text": [
      "1 , 2\n",
      "3 , 4\n",
      "5 , 6\n"
     ]
    }
   ],
   "source": [
    "array = [(1,2), (3,4), (5,6)]\n",
    "for a, b in array:\n",
    "    print(a, ',', b)"
   ]
  },
  {
   "cell_type": "markdown",
   "metadata": {},
   "source": [
    "## Pluck a few elements\n",
    "\n",
    "Some of the most recent additions in Python, allow for plucking out a few values from the beginning of the tuple. The below example shows just how it is done. "
   ]
  },
  {
   "cell_type": "code",
   "execution_count": 32,
   "metadata": {},
   "outputs": [
    {
     "name": "stdout",
     "output_type": "stream",
     "text": [
      "1\n",
      "2\n",
      "[3, 4, 5]\n"
     ]
    }
   ],
   "source": [
    "tup = (1,2,3,4,5)\n",
    "\n",
    "#taking out only first 2 elemets and assing to variable\n",
    "a, b, *others = tup\n",
    "\n",
    "print(a)\n",
    "print(b)\n",
    "print(others)"
   ]
  },
  {
   "cell_type": "markdown",
   "metadata": {},
   "source": [
    "If we don't care about `others`, then we can also use an `_` to ignore the trailing values"
   ]
  },
  {
   "cell_type": "code",
   "execution_count": 33,
   "metadata": {},
   "outputs": [
    {
     "name": "stdout",
     "output_type": "stream",
     "text": [
      "1\n",
      "2\n"
     ]
    }
   ],
   "source": [
    "a, b, *_ = tup\n",
    "\n",
    "print(a)\n",
    "print(b)"
   ]
  },
  {
   "cell_type": "markdown",
   "metadata": {},
   "source": [
    "## Methods on the tuple object\n",
    "\n",
    "The tuple object offers some built-in methods for quick operations. "
   ]
  },
  {
   "cell_type": "code",
   "execution_count": 35,
   "metadata": {},
   "outputs": [
    {
     "name": "stdout",
     "output_type": "stream",
     "text": [
      "1\n"
     ]
    }
   ],
   "source": [
    "tup = 1,2,1,1,3\n",
    "#counting repeating number inside tuple\n",
    "print(tup.count(2))"
   ]
  },
  {
   "cell_type": "markdown",
   "metadata": {},
   "source": [
    "The count method counts the number of times a specific element occurs within a tuple. Since the tuple is immutable, a count operation on a tuple is generally faster than the count operation on a list / array.\n",
    "\n",
    "The tuple provides a second method called `index`. Unlike `count`, the `index` method gets the first index of occurances of the specified value. We can see this in the below example."
   ]
  },
  {
   "cell_type": "code",
   "execution_count": 19,
   "metadata": {},
   "outputs": [
    {
     "name": "stdout",
     "output_type": "stream",
     "text": [
      "First index of 1: 0\n",
      "First index of 2: 1\n",
      "First index of 3: 4\n"
     ]
    }
   ],
   "source": [
    "#calling index of repeating \n",
    "print('First index of 1:', tup.index(1))\n",
    "print('First index of 2:', tup.index(2))\n",
    "print('First index of 3:', tup.index(3))"
   ]
  },
  {
   "cell_type": "code",
   "execution_count": null,
   "metadata": {},
   "outputs": [],
   "source": [
    "print()"
   ]
  },
  {
   "cell_type": "markdown",
   "metadata": {},
   "source": [
    "***\n",
    "Copyright (c) 2020, BlobCity, Inc."
   ]
  }
 ],
 "metadata": {
  "kernelspec": {
   "display_name": "Python 3",
   "language": "python",
   "name": "python3"
  },
  "language_info": {
   "codemirror_mode": {
    "name": "ipython",
    "version": 3
   },
   "file_extension": ".py",
   "mimetype": "text/x-python",
   "name": "python",
   "nbconvert_exporter": "python",
   "pygments_lexer": "ipython3",
   "version": "3.7.6"
  }
 },
 "nbformat": 4,
 "nbformat_minor": 4
}
