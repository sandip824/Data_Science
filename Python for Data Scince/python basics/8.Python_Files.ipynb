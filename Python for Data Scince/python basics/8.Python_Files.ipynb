{
 "cells": [
  {
   "cell_type": "markdown",
   "metadata": {},
   "source": [
    "# Files\n",
    "\n",
    "Python is very populate when it comes to working on text files. Many developers prefer to use Python if it comes to working on text files. \n",
    "\n",
    "Python offers severl file handling libraries, and in many scenarious you will use a the `pandas` package to work with files. However it is important to understand the core fundamentals of file handling using Python. This module does just that. \n",
    "\n",
    "## Reading a File\n",
    "\n",
    "Let's get started with reading an already existent file. We have a file located at `data/lorem.txt`. We will read this file, and simply print the contents of the file. "
   ]
  },
  {
   "cell_type": "code",
   "execution_count": 3,
   "metadata": {},
   "outputs": [
    {
     "name": "stdout",
     "output_type": "stream",
     "text": [
      "this is a sample text file\n",
      "\n",
      "line2\n"
     ]
    }
   ],
   "source": [
    "file = open('test.txt') \n",
    "\n",
    "for line in file: \n",
    "    print(line) "
   ]
  },
  {
   "cell_type": "markdown",
   "metadata": {},
   "source": [
    "We use a built-in function called `open` to open a file. The file to open is specified by the parameter passed. The passed parameter must map to a file that is actually present on the filesystem. \n",
    "\n",
    "The above output looks like one big block of text, but we read this output line by line. If we wanted to find out where the line breaks were, then let's add something extra to the print statement. This way we will know how Python read the file. "
   ]
  },
  {
   "cell_type": "code",
   "execution_count": 4,
   "metadata": {},
   "outputs": [
    {
     "name": "stdout",
     "output_type": "stream",
     "text": [
      ">>> this is a sample text file\n",
      "\n",
      ">>> line2\n"
     ]
    }
   ],
   "source": [
    "file = open('test.txt') \n",
    "\n",
    "for line in file: \n",
    "    print('>>>',line)"
   ]
  },
  {
   "cell_type": "markdown",
   "metadata": {},
   "source": [
    "Now it is clear. Everywhere we see a `>>>` that is where a new line starts. Python is interating through the for loop once per occurance of `>>>`\n",
    "\n",
    "Interesting, let's see if we can read the same file twice? "
   ]
  },
  {
   "cell_type": "code",
   "execution_count": 10,
   "metadata": {},
   "outputs": [
    {
     "name": "stdout",
     "output_type": "stream",
     "text": [
      ">>> this is a sample text file\n",
      "\n",
      ">>> line2\n"
     ]
    }
   ],
   "source": [
    "file = open('test.txt') \n",
    "\n",
    "for line in file: \n",
    "    print('>>>',line)\n",
    "\n",
    "    \n",
    "for line in file: \n",
    "    print('---',line)"
   ]
  },
  {
   "cell_type": "markdown",
   "metadata": {},
   "source": [
    "Uh! So we wrote the for loop twice the read the file twice, but it does not seem like the second for loop executed at all. \n",
    "\n",
    "This is true, as when the for loop is interating the file pointer is moving forward; one line at a time. When the first for loop completes, the file pointer has reached the end of the file. This is also the time when the for loop breaks as there is nothing more to read.\n",
    "\n",
    "When the second for loop is run on the same file object; where the file point is already at the end of the file; there is nothing more left to read. The second for loop does not get any additional data, so it does not iterate at all. The for loop simply quits as the file has alredy been read. \n",
    "\n",
    "It is important to keep this in mind where performing file operations. We cannot re-read something that is already read; so we must appropriate manage and handle what is read, and may be assign and keep what is read in a variable for until the time we need it. \n",
    "\n",
    "## Closing a File\n",
    "\n",
    "In the above example, even though we finished reading the file and we have read it all the way to the end; the file is still open. We must explicitely close a file that we open. It is impotant to close a file as keeping a file open consumes siginicant amount of system resources. Also, operating systems have a limit on the number of files you can keep open at any point in time. This limit is realatively high, but if you touch this limit, you will no longer be able to any any more files until you have closed some of your already open files. "
   ]
  },
  {
   "cell_type": "code",
   "execution_count": 11,
   "metadata": {},
   "outputs": [],
   "source": [
    "file.close()"
   ]
  },
  {
   "cell_type": "markdown",
   "metadata": {},
   "source": [
    "The `close()` function can be used on the file object to close an open file. You can invoke `close()` on an already closed file without any problems. However, once you close a file, you will not be able to read it; even if you hav not read the first time around."
   ]
  },
  {
   "cell_type": "code",
   "execution_count": 12,
   "metadata": {},
   "outputs": [
    {
     "ename": "ValueError",
     "evalue": "I/O operation on closed file.",
     "output_type": "error",
     "traceback": [
      "\u001b[1;31m---------------------------------------------------------------------------\u001b[0m",
      "\u001b[1;31mValueError\u001b[0m                                Traceback (most recent call last)",
      "\u001b[1;32m<ipython-input-12-60b68f037fc4>\u001b[0m in \u001b[0;36m<module>\u001b[1;34m\u001b[0m\n\u001b[0;32m      3\u001b[0m \u001b[0mfile\u001b[0m\u001b[1;33m.\u001b[0m\u001b[0mclose\u001b[0m\u001b[1;33m(\u001b[0m\u001b[1;33m)\u001b[0m\u001b[1;33m\u001b[0m\u001b[1;33m\u001b[0m\u001b[0m\n\u001b[0;32m      4\u001b[0m \u001b[1;33m\u001b[0m\u001b[0m\n\u001b[1;32m----> 5\u001b[1;33m \u001b[1;32mfor\u001b[0m \u001b[0mline\u001b[0m \u001b[1;32min\u001b[0m \u001b[0mfile\u001b[0m\u001b[1;33m:\u001b[0m\u001b[1;33m\u001b[0m\u001b[1;33m\u001b[0m\u001b[0m\n\u001b[0m\u001b[0;32m      6\u001b[0m     \u001b[0mprint\u001b[0m\u001b[1;33m(\u001b[0m\u001b[0mline\u001b[0m\u001b[1;33m)\u001b[0m\u001b[1;33m\u001b[0m\u001b[1;33m\u001b[0m\u001b[0m\n",
      "\u001b[1;31mValueError\u001b[0m: I/O operation on closed file."
     ]
    }
   ],
   "source": [
    "file = open('test.txt') \n",
    "\n",
    "file.close()\n",
    "\n",
    "for line in file: \n",
    "    print(line)"
   ]
  },
  {
   "cell_type": "markdown",
   "metadata": {},
   "source": [
    "In the above example, we opened a file and then immediately closed it. After closing the file we attempted to read all lines in the file. What we land up with is an `I/O operation` error. This is so because we cannot read a file that is already closed.\n",
    "\n",
    "## File Reading Modes\n",
    "\n",
    "Python supports specifying the mode in which you wish to open the file. The following are the supported file modes:\n",
    "- \"r\", for read only access.\n",
    "- \"w\", write only access, but creates a new file by overwriting any existing file\n",
    "- \"x\", write only access, but fails if a file with the same name is already present\n",
    "- \"a\", write access to append to a file. Also creates a new file if the same does not exist\n",
    "- \"r+\", Open for both read and write access\n",
    "\n",
    "In addition to the above parameters, we can also in addition specify `b` or `t` to instruct whether the file should be opened in binary more or text mode. \n",
    "\n",
    "If we specify mode as `rb` then it means the file should be opened for read only access, but in binary mode read. And if we specify `rt` it means we open it for read only access but text based reading. If we specify just `r` then it essentially defaults to `rt`. All files are opened for text mode operation if no mode is specifically specified. \n",
    "\n",
    "Let's look at an example."
   ]
  },
  {
   "cell_type": "code",
   "execution_count": 13,
   "metadata": {},
   "outputs": [
    {
     "name": "stdout",
     "output_type": "stream",
     "text": [
      "this is a sample text file\n",
      "\n",
      "line2\n"
     ]
    }
   ],
   "source": [
    "file = open('test.txt', 'r') \n",
    "\n",
    "for line in file: \n",
    "    print(line)"
   ]
  },
  {
   "cell_type": "markdown",
   "metadata": {},
   "source": [
    "As we can see, we can specify the mode as a second parameter to the `open` function. If we don't specify a mode, the file opens in the mode `r` by default; which is for purpose of reading only. We won't be able to write to such a file or modify the contents of such a file. \n",
    "\n",
    "If you want to open the file for writing, then do not accidentially use `w` model. You must at all points in time use the `a` or `r+` mode; unless you definitely want to use the `w` mode. \n",
    "\n",
    "## With Statement\n",
    "\n",
    "In most cases, you will use the with-as statement to work on files. If you want to open a file, do some work on it and then forget about it; then with-as is your best choice. The with-as will automatically close the file once you are done working on it."
   ]
  },
  {
   "cell_type": "code",
   "execution_count": 14,
   "metadata": {},
   "outputs": [
    {
     "name": "stdout",
     "output_type": "stream",
     "text": [
      "this is a sample text file\n",
      "\n",
      "line2\n"
     ]
    }
   ],
   "source": [
    "with open('test.txt') as file:\n",
    "    for line in file: \n",
    "        print(line)"
   ]
  },
  {
   "cell_type": "code",
   "execution_count": 19,
   "metadata": {},
   "outputs": [
    {
     "name": "stdout",
     "output_type": "stream",
     "text": [
      "1,2,3\n",
      "\n",
      "4,5,6\n",
      "\n",
      "7,8,9\n",
      "\n"
     ]
    }
   ],
   "source": [
    "file = open('test.csv')\n",
    "for line in file:\n",
    "    print(line)"
   ]
  },
  {
   "cell_type": "markdown",
   "metadata": {},
   "source": [
    "The above block of code does exactly the same thing as before, but is a safer implementation as we do not have to explicitely close the file. \n",
    "\n",
    "## Creating a File / Writing to a File\n",
    "\n",
    "We can create a new file by using the `w` mode. This mode will also create a new file for writing. If a file with the same name is already present, the same will be overwritten. "
   ]
  },
  {
   "cell_type": "code",
   "execution_count": 20,
   "metadata": {},
   "outputs": [],
   "source": [
    "with open('test.txt', 'w') as file:\n",
    "    file.write('Hello World')"
   ]
  },
  {
   "cell_type": "markdown",
   "metadata": {},
   "source": [
    "So that's it. You can see no output, but I can assure you that have now created a new file and written a single line `Hello World` in the file. Go back to the file list on this notebook and see if you can view the newly created file. The file should be in the same location as this program file and should be named `hello.txt`. You can open the file to indeed confirm that `Hello World` is written within it. \n",
    "\n",
    "Now, let's see what happens if we perform the write operation in a loop. "
   ]
  },
  {
   "cell_type": "code",
   "execution_count": 21,
   "metadata": {},
   "outputs": [],
   "source": [
    "for x in list(range(10)):\n",
    "    with open('test.txt', 'w') as file:\n",
    "        file.write('Hello ' + str(x))"
   ]
  },
  {
   "cell_type": "markdown",
   "metadata": {},
   "source": [
    "While again there is no output, but you can be rest assured that your file got written 10 times. You used the `w` mode, so each iteration of the for loop should completely overwrite the file. \n",
    "\n",
    "If you open the file `hello.txt`, you will see that the contents of the file read\n",
    "\n",
    "``` text\n",
    "Hello 9\n",
    "```\n",
    "\n",
    "Instead of containing 10 lines of `Hello x`, you actually have just one line with the last value of `x`, which is when `x = 9`.\n",
    "\n",
    "This is expected behaviour as the write mode was chosen to be `w`\n",
    "\n",
    "Let's try with another file mode. What would happen if we used the write mode as `a`; which means we are opening the file for append mode. "
   ]
  },
  {
   "cell_type": "code",
   "execution_count": 22,
   "metadata": {},
   "outputs": [],
   "source": [
    "for x in list(range(10)):\n",
    "    with open('test.txt', 'a') as file:\n",
    "        file.write('Hello ' + str(x))"
   ]
  },
  {
   "cell_type": "markdown",
   "metadata": {},
   "source": [
    "This time we created a file with name `tmp.txt`. If we open this file, we can see that the output is\n",
    "\n",
    "``` text\n",
    "Hello 0Hello 1Hello 2Hello 3Hello 4Hello 5Hello 6Hello 7Hello 8Hello 9\n",
    "```\n",
    "\n",
    "So what happened here? The only thing we changed is the file mode; wherein we used `a` instead of `w`. So each time we opened the file, the file got opened for appending instead of overwriting. \n",
    "\n",
    "We can see that Hello from each iteration of the for loop has got appended onto the file. \n",
    "\n",
    "Now what if we wanted the hello's to come on different lines? "
   ]
  },
  {
   "cell_type": "code",
   "execution_count": 11,
   "metadata": {},
   "outputs": [],
   "source": [
    "for x in list(range(10)):\n",
    "    with open('tmp2.txt', 'a') as file:\n",
    "        file.write('Hello ' + str(x) + '\\n')"
   ]
  },
  {
   "cell_type": "markdown",
   "metadata": {},
   "source": [
    "We have now created a new file called `tmp2.txt`. If we open the file, the contents are as follows:\n",
    "\n",
    "``` text\n",
    "Hello 0\n",
    "Hello 1\n",
    "Hello 2\n",
    "Hello 3\n",
    "Hello 4\n",
    "Hello 5\n",
    "Hello 6\n",
    "Hello 7\n",
    "Hello 8\n",
    "Hello 9\n",
    "\n",
    "```\n",
    "\n",
    "Each iteration of the for loop now got written to a new line. This is so as we put a `\\n` at the end of each line, and a `\\n` is an escape sequence character that represents in a new line. \n",
    "\n",
    "We are not covering the escape sequence characters here, as the escape sequence characters in Python remain to be the same as other languages. \n",
    "\n",
    "## Writing Multiple Lines\n",
    "\n",
    "In a single go we can write multiple lines to a file by using the `writelines` function. Let's take a look at this. "
   ]
  },
  {
   "cell_type": "code",
   "execution_count": 12,
   "metadata": {},
   "outputs": [],
   "source": [
    "lines = []\n",
    "for x in list(range(10)):\n",
    "    lines.append('Hello ' + str(x) + '\\n')\n",
    "    \n",
    "with open('hello.txt', 'w') as file:\n",
    "    file.writelines(lines)"
   ]
  },
  {
   "cell_type": "markdown",
   "metadata": {},
   "source": [
    "In the above example, we created a list called `lines`. We filled in values into th list, and then passed the list of `lines` into the `writelines` function. In a single function call, all the strings present within the list got written to the file. \n",
    "\n",
    "If we now open the contents of `hello.txt`, we should find this inside\n",
    "\n",
    "```text\n",
    "Hello 0\n",
    "Hello 1\n",
    "Hello 2\n",
    "Hello 3\n",
    "Hello 4\n",
    "Hello 5\n",
    "Hello 6\n",
    "Hello 7\n",
    "Hello 8\n",
    "Hello 9\n",
    "\n",
    "```\n",
    "\n",
    "## Deleting a File\n",
    "\n",
    "We can delete a file in Python by using the `os` module. Let's delete some of the files we created so far. It will also help us clean up the directory that we messed up. "
   ]
  },
  {
   "cell_type": "code",
   "execution_count": 13,
   "metadata": {},
   "outputs": [],
   "source": [
    "import os\n",
    "os.remove('hello.txt')\n",
    "os.remove('tmp.txt')\n",
    "os.remove('tmp2.txt')"
   ]
  },
  {
   "cell_type": "markdown",
   "metadata": {},
   "source": [
    "Removing a file is a very simple operation provided by the os package. After executing this, you will notice that the previous created files should now have been deleted. \n",
    "\n",
    "Also, it is important to handle errors here. If we call the `remove` function on an inexistent or already deleted file, it will throw an error. We can see this in the below example. "
   ]
  },
  {
   "cell_type": "code",
   "execution_count": 14,
   "metadata": {},
   "outputs": [
    {
     "ename": "FileNotFoundError",
     "evalue": "[Errno 2] No such file or directory: 'xyz.txt'",
     "output_type": "error",
     "traceback": [
      "\u001b[0;31m---------------------------------------------------------------------------\u001b[0m",
      "\u001b[0;31mFileNotFoundError\u001b[0m                         Traceback (most recent call last)",
      "\u001b[0;32m<ipython-input-14-15ecfed2b226>\u001b[0m in \u001b[0;36m<module>\u001b[0;34m\u001b[0m\n\u001b[1;32m      1\u001b[0m \u001b[0;32mimport\u001b[0m \u001b[0mos\u001b[0m\u001b[0;34m\u001b[0m\u001b[0;34m\u001b[0m\u001b[0m\n\u001b[0;32m----> 2\u001b[0;31m \u001b[0mos\u001b[0m\u001b[0;34m.\u001b[0m\u001b[0mremove\u001b[0m\u001b[0;34m(\u001b[0m\u001b[0;34m'xyz.txt'\u001b[0m\u001b[0;34m)\u001b[0m\u001b[0;34m\u001b[0m\u001b[0;34m\u001b[0m\u001b[0m\n\u001b[0m",
      "\u001b[0;31mFileNotFoundError\u001b[0m: [Errno 2] No such file or directory: 'xyz.txt'"
     ]
    }
   ],
   "source": [
    "import os\n",
    "os.remove('xyz.txt')"
   ]
  }
 ],
 "metadata": {
  "kernelspec": {
   "display_name": "Python 3",
   "language": "python",
   "name": "python3"
  },
  "language_info": {
   "codemirror_mode": {
    "name": "ipython",
    "version": 3
   },
   "file_extension": ".py",
   "mimetype": "text/x-python",
   "name": "python",
   "nbconvert_exporter": "python",
   "pygments_lexer": "ipython3",
   "version": "3.7.6"
  }
 },
 "nbformat": 4,
 "nbformat_minor": 4
}
